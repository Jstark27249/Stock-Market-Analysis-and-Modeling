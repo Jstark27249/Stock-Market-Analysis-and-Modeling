{
 "cells": [
  {
   "cell_type": "code",
   "execution_count": 2,
   "id": "e1baefac",
   "metadata": {},
   "outputs": [
    {
     "name": "stdout",
     "output_type": "stream",
     "text": [
      "Num GPUs Available:  1\n"
     ]
    }
   ],
   "source": [
    "\n",
    "#General use and needed\n",
    "import os\n",
    "import pandas as pd\n",
    "import numpy as np\n",
    "import matplotlib.pyplot as plt\n",
    "import seaborn as sns\n",
    "%matplotlib inline\n",
    "\n",
    "#For Preprocessing\n",
    "import sklearn as sc\n",
    "from sklearn import preprocessing\n",
    "from sklearn.preprocessing import MinMaxScaler\n",
    "\n",
    "#For non GPU function acceleration\n",
    "from numba import jit\n",
    "\n",
    "\n",
    "#For Neural net training\n",
    "import tensorflow as tf\n",
    "from tensorflow.keras.models import Sequential \n",
    "from tensorflow.keras.layers import LSTM\n",
    "from tensorflow.keras.layers import Dense\n",
    "from tensorflow.keras.layers import Dropout\n",
    "import tensorflow.keras.metrics\n",
    "\n",
    "#check if gpu is availble (requires cuda toolkit and cuda deep learning library)\n",
    "print(\"Num GPUs Available: \", len(tf.config.list_physical_devices('GPU')))"
   ]
  },
  {
   "cell_type": "code",
   "execution_count": 3,
   "id": "0c42af48",
   "metadata": {},
   "outputs": [
    {
     "data": {
      "text/html": [
       "<div>\n",
       "<style scoped>\n",
       "    .dataframe tbody tr th:only-of-type {\n",
       "        vertical-align: middle;\n",
       "    }\n",
       "\n",
       "    .dataframe tbody tr th {\n",
       "        vertical-align: top;\n",
       "    }\n",
       "\n",
       "    .dataframe thead th {\n",
       "        text-align: right;\n",
       "    }\n",
       "</style>\n",
       "<table border=\"1\" class=\"dataframe\">\n",
       "  <thead>\n",
       "    <tr style=\"text-align: right;\">\n",
       "      <th></th>\n",
       "      <th>Date</th>\n",
       "      <th>Open</th>\n",
       "      <th>High</th>\n",
       "      <th>Low</th>\n",
       "      <th>Close</th>\n",
       "    </tr>\n",
       "  </thead>\n",
       "  <tbody>\n",
       "    <tr>\n",
       "      <th>0</th>\n",
       "      <td>04/01/22</td>\n",
       "      <td>4540.32</td>\n",
       "      <td>4548.70</td>\n",
       "      <td>4507.57</td>\n",
       "      <td>4545.86</td>\n",
       "    </tr>\n",
       "    <tr>\n",
       "      <th>1</th>\n",
       "      <td>03/31/22</td>\n",
       "      <td>4599.02</td>\n",
       "      <td>4603.07</td>\n",
       "      <td>4530.41</td>\n",
       "      <td>4530.41</td>\n",
       "    </tr>\n",
       "    <tr>\n",
       "      <th>2</th>\n",
       "      <td>03/30/22</td>\n",
       "      <td>4624.20</td>\n",
       "      <td>4627.77</td>\n",
       "      <td>4581.32</td>\n",
       "      <td>4602.45</td>\n",
       "    </tr>\n",
       "    <tr>\n",
       "      <th>3</th>\n",
       "      <td>03/29/22</td>\n",
       "      <td>4602.86</td>\n",
       "      <td>4637.30</td>\n",
       "      <td>4589.66</td>\n",
       "      <td>4631.60</td>\n",
       "    </tr>\n",
       "    <tr>\n",
       "      <th>4</th>\n",
       "      <td>03/28/22</td>\n",
       "      <td>4541.09</td>\n",
       "      <td>4575.65</td>\n",
       "      <td>4517.69</td>\n",
       "      <td>4575.52</td>\n",
       "    </tr>\n",
       "  </tbody>\n",
       "</table>\n",
       "</div>"
      ],
      "text/plain": [
       "       Date     Open     High      Low    Close\n",
       "0  04/01/22  4540.32  4548.70  4507.57  4545.86\n",
       "1  03/31/22  4599.02  4603.07  4530.41  4530.41\n",
       "2  03/30/22  4624.20  4627.77  4581.32  4602.45\n",
       "3  03/29/22  4602.86  4637.30  4589.66  4631.60\n",
       "4  03/28/22  4541.09  4575.65  4517.69  4575.52"
      ]
     },
     "execution_count": 3,
     "metadata": {},
     "output_type": "execute_result"
    }
   ],
   "source": [
    "df = pd.read_csv(\"SP500.csv\")\n",
    "df.head()"
   ]
  },
  {
   "cell_type": "code",
   "execution_count": 4,
   "id": "9a89d5cb",
   "metadata": {
    "scrolled": false
   },
   "outputs": [
    {
     "data": {
      "text/html": [
       "<div>\n",
       "<style scoped>\n",
       "    .dataframe tbody tr th:only-of-type {\n",
       "        vertical-align: middle;\n",
       "    }\n",
       "\n",
       "    .dataframe tbody tr th {\n",
       "        vertical-align: top;\n",
       "    }\n",
       "\n",
       "    .dataframe thead th {\n",
       "        text-align: right;\n",
       "    }\n",
       "</style>\n",
       "<table border=\"1\" class=\"dataframe\">\n",
       "  <thead>\n",
       "    <tr style=\"text-align: right;\">\n",
       "      <th></th>\n",
       "      <th>Date</th>\n",
       "      <th>Open</th>\n",
       "      <th>High</th>\n",
       "      <th>Low</th>\n",
       "      <th>Close</th>\n",
       "    </tr>\n",
       "  </thead>\n",
       "  <tbody>\n",
       "    <tr>\n",
       "      <th>5598</th>\n",
       "      <td>01/03/00</td>\n",
       "      <td>1455.22</td>\n",
       "      <td>1478.00</td>\n",
       "      <td>1438.36</td>\n",
       "      <td>1455.22</td>\n",
       "    </tr>\n",
       "    <tr>\n",
       "      <th>5597</th>\n",
       "      <td>01/04/00</td>\n",
       "      <td>1399.42</td>\n",
       "      <td>1455.22</td>\n",
       "      <td>1397.43</td>\n",
       "      <td>1399.42</td>\n",
       "    </tr>\n",
       "    <tr>\n",
       "      <th>5596</th>\n",
       "      <td>01/05/00</td>\n",
       "      <td>1402.11</td>\n",
       "      <td>1413.27</td>\n",
       "      <td>1377.68</td>\n",
       "      <td>1402.11</td>\n",
       "    </tr>\n",
       "    <tr>\n",
       "      <th>5595</th>\n",
       "      <td>01/06/00</td>\n",
       "      <td>1403.45</td>\n",
       "      <td>1411.90</td>\n",
       "      <td>1392.02</td>\n",
       "      <td>1403.45</td>\n",
       "    </tr>\n",
       "    <tr>\n",
       "      <th>5594</th>\n",
       "      <td>01/07/00</td>\n",
       "      <td>1441.47</td>\n",
       "      <td>1441.47</td>\n",
       "      <td>1400.53</td>\n",
       "      <td>1441.47</td>\n",
       "    </tr>\n",
       "  </tbody>\n",
       "</table>\n",
       "</div>"
      ],
      "text/plain": [
       "          Date     Open     High      Low    Close\n",
       "5598  01/03/00  1455.22  1478.00  1438.36  1455.22\n",
       "5597  01/04/00  1399.42  1455.22  1397.43  1399.42\n",
       "5596  01/05/00  1402.11  1413.27  1377.68  1402.11\n",
       "5595  01/06/00  1403.45  1411.90  1392.02  1403.45\n",
       "5594  01/07/00  1441.47  1441.47  1400.53  1441.47"
      ]
     },
     "execution_count": 4,
     "metadata": {},
     "output_type": "execute_result"
    }
   ],
   "source": [
    "df = df.sort_index(ascending=False)\n",
    "df.head()"
   ]
  },
  {
   "cell_type": "code",
   "execution_count": 5,
   "id": "f069549c",
   "metadata": {},
   "outputs": [
    {
     "name": "stdout",
     "output_type": "stream",
     "text": [
      "        Close\n",
      "5598  1455.22\n",
      "5597  1399.42\n",
      "5596  1402.11\n",
      "5595  1403.45\n",
      "5594  1441.47\n",
      "...       ...\n",
      "4     4575.52\n",
      "3     4631.60\n",
      "2     4602.45\n",
      "1     4530.41\n",
      "0     4545.86\n",
      "\n",
      "[5599 rows x 1 columns]\n",
      "<class 'pandas.core.frame.DataFrame'>\n",
      "Int64Index: 5599 entries, 5598 to 0\n",
      "Data columns (total 1 columns):\n",
      " #   Column  Non-Null Count  Dtype  \n",
      "---  ------  --------------  -----  \n",
      " 0    Close  5599 non-null   float64\n",
      "dtypes: float64(1)\n",
      "memory usage: 87.5 KB\n"
     ]
    }
   ],
   "source": [
    "dfTrain = df.iloc[:, lambda df: [4]]\n",
    "print(dfTrain)\n",
    "dfTrain.info()"
   ]
  },
  {
   "cell_type": "code",
   "execution_count": 6,
   "id": "cedf6179",
   "metadata": {},
   "outputs": [
    {
     "name": "stdout",
     "output_type": "stream",
     "text": [
      "        Close\n",
      "5598  1455.22\n",
      "5597  1399.42\n",
      "5596  1402.11\n",
      "5595  1403.45\n",
      "5594  1441.47\n",
      "...       ...\n",
      "4     4575.52\n",
      "3     4631.60\n",
      "2     4602.45\n",
      "1     4530.41\n",
      "0     4545.86\n",
      "\n",
      "[5599 rows x 1 columns]\n",
      "<class 'pandas.core.frame.DataFrame'>\n",
      "Int64Index: 5599 entries, 5598 to 0\n",
      "Data columns (total 1 columns):\n",
      " #   Column  Non-Null Count  Dtype  \n",
      "---  ------  --------------  -----  \n",
      " 0    Close  5599 non-null   float64\n",
      "dtypes: float64(1)\n",
      "memory usage: 87.5 KB\n"
     ]
    }
   ],
   "source": [
    "print(dfTrain)\n",
    "#print(dfTrain.shape)\n",
    "dfTrain.info()"
   ]
  },
  {
   "cell_type": "code",
   "execution_count": 7,
   "id": "07318626",
   "metadata": {},
   "outputs": [
    {
     "data": {
      "text/plain": [
       "(5599, 1)"
      ]
     },
     "execution_count": 7,
     "metadata": {},
     "output_type": "execute_result"
    }
   ],
   "source": [
    "scaler = MinMaxScaler(feature_range =(0,1))\n",
    "scaled_df = scaler.fit_transform(dfTrain)\n",
    "scaled_df.shape"
   ]
  },
  {
   "cell_type": "code",
   "execution_count": 13,
   "id": "475a6cdd",
   "metadata": {},
   "outputs": [],
   "source": [
    "X_train = []\n",
    "y_train = []\n",
    "\n",
    "for i in range (30,5599): #1 : timestep // 5599 : length of the data\n",
    "    X_train.append(scaled_df[i-30:i,0]) \n",
    "    y_train.append(scaled_df[i,0])\n",
    "\n",
    "X_train,y_train = np.array(X_train),np.array(y_train)"
   ]
  },
  {
   "cell_type": "code",
   "execution_count": 14,
   "id": "9099a709",
   "metadata": {},
   "outputs": [
    {
     "name": "stdout",
     "output_type": "stream",
     "text": [
      "(5569, 30)\n"
     ]
    }
   ],
   "source": [
    "print(X_train.shape)\n",
    "#print(y_train.shape)"
   ]
  },
  {
   "cell_type": "code",
   "execution_count": 15,
   "id": "129adfcd",
   "metadata": {},
   "outputs": [
    {
     "name": "stdout",
     "output_type": "stream",
     "text": [
      "(5569, 30, 1)\n"
     ]
    }
   ],
   "source": [
    "X_train = np.reshape(X_train,(X_train.shape[0], X_train.shape[1], 1))\n",
    "print(X_train.shape)"
   ]
  },
  {
   "cell_type": "code",
   "execution_count": 16,
   "id": "899206cc",
   "metadata": {},
   "outputs": [],
   "source": [
    "\n",
    "#Code to load existing model\n",
    "#regressor = Sequential()\n",
    "#regressor = tensorflow.keras.models.load_model(\"S&P500_Model\")\n",
    "#hist = regressor\n",
    "\n"
   ]
  },
  {
   "cell_type": "code",
   "execution_count": 64,
   "id": "398211eb",
   "metadata": {},
   "outputs": [],
   "source": [
    "#initializing the RNN\n",
    "regressor = Sequential()\n",
    "\n",
    "\n",
    "#Using LSTM (I tried a few other RNN types but this seemed to work the best)\n",
    "#Adding the first layer LSTM and some Dropout Regularisations\n",
    "regressor.add(LSTM(units = 50, return_sequences= True, input_shape = (X_train.shape[1], 1)))\n",
    "regressor.add(Dropout(0.2))\n",
    "\n",
    "#Adding the second layer LSTM and some Dropout Regularisations\n",
    "regressor.add(LSTM(units = 50, return_sequences= True))\n",
    "regressor.add(Dropout(0.2))\n",
    "\n",
    "\n",
    "#Adding the Third layer LSTM and some Dropout Regularisations\n",
    "regressor.add(LSTM(units = 50, return_sequences= True))\n",
    "regressor.add(Dropout(0.2))\n",
    "\n",
    "#Adding the Fourth and final layer layer LSTM and some Dropout Regularisations\n",
    "regressor.add(LSTM(units = 50, return_sequences= False))\n",
    "regressor.add(Dropout(0.2))\n",
    "\n",
    "#adds a denisty layer with 1 unit\n",
    "regressor.add(Dense(units = 1))\n",
    "\n",
    "#compiles model using adamax optimizer and includes accuracy metric and mean squared error\n",
    "#Tried several other options adamax did the best with the next best being adam\n",
    "regressor.compile(optimizer ='Adamax', loss = 'mean_squared_error', metrics=['accuracy'])\n"
   ]
  },
  {
   "cell_type": "code",
   "execution_count": 82,
   "id": "77f4420e",
   "metadata": {},
   "outputs": [
    {
     "name": "stdout",
     "output_type": "stream",
     "text": [
      "Epoch 1/10\n",
      "175/175 - 5s - loss: 0.0048 - accuracy: 3.5913e-04 - 5s/epoch - 30ms/step\n",
      "Epoch 2/10\n",
      "175/175 - 2s - loss: 0.0018 - accuracy: 3.5913e-04 - 2s/epoch - 11ms/step\n",
      "Epoch 3/10\n",
      "175/175 - 2s - loss: 0.0016 - accuracy: 3.5913e-04 - 2s/epoch - 11ms/step\n",
      "Epoch 4/10\n",
      "175/175 - 2s - loss: 0.0014 - accuracy: 3.5913e-04 - 2s/epoch - 11ms/step\n",
      "Epoch 5/10\n",
      "175/175 - 2s - loss: 0.0014 - accuracy: 3.5913e-04 - 2s/epoch - 11ms/step\n",
      "Epoch 6/10\n",
      "175/175 - 2s - loss: 0.0013 - accuracy: 3.5913e-04 - 2s/epoch - 11ms/step\n",
      "Epoch 7/10\n",
      "175/175 - 2s - loss: 0.0013 - accuracy: 3.5913e-04 - 2s/epoch - 11ms/step\n",
      "Epoch 8/10\n",
      "175/175 - 2s - loss: 0.0012 - accuracy: 3.5913e-04 - 2s/epoch - 11ms/step\n",
      "Epoch 9/10\n",
      "175/175 - 2s - loss: 0.0012 - accuracy: 3.5913e-04 - 2s/epoch - 11ms/step\n",
      "Epoch 10/10\n",
      "175/175 - 2s - loss: 0.0011 - accuracy: 3.5913e-04 - 2s/epoch - 11ms/step\n"
     ]
    }
   ],
   "source": [
    "#Actually train the model\n",
    "\n",
    "@jit(forceobj=True)\n",
    "def trainModel(X_train, y_train):\n",
    "    hist = regressor.fit(X_train, y_train, epochs=10, batch_size=32, verbose=2)\n",
    "    return hist\n",
    "    \n",
    "    \n",
    "hist = trainModel(X_train, y_train)\n"
   ]
  },
  {
   "cell_type": "code",
   "execution_count": 44,
   "id": "f0b1d9cf",
   "metadata": {},
   "outputs": [],
   "source": [
    "#if training model uncomment line to save a new model\n",
    "\n",
    "#Need custom object parameters\n",
    "#regressor.save(\"S&P500_Model\")\n",
    "\n",
    "\n"
   ]
  },
  {
   "cell_type": "code",
   "execution_count": 83,
   "id": "d99f47a3",
   "metadata": {},
   "outputs": [
    {
     "data": {
      "image/png": "[encoded data removed]",
      "text/plain": [
       "<Figure size 432x288 with 1 Axes>"
      ]
     },
     "metadata": {
      "needs_background": "light"
     },
     "output_type": "display_data"
    }
   ],
   "source": [
    "plt.plot(hist.history['loss'])\n",
    "plt.title('Training model loss')\n",
    "plt.ylabel('loss')\n",
    "plt.xlabel('epoch')\n",
    "plt.legend(['train'], loc='upper left')\n",
    "plt.show()"
   ]
  },
  {
   "cell_type": "code",
   "execution_count": 84,
   "id": "65e3a194",
   "metadata": {},
   "outputs": [
    {
     "data": {
      "text/plain": [
       "(5569, 30, 1)"
      ]
     },
     "execution_count": 84,
     "metadata": {},
     "output_type": "execute_result"
    }
   ],
   "source": [
    "testData = pd.read_csv('SP500.csv')\n",
    "testData = testData.dropna()\n",
    "testData = testData.iloc[:,4:5]\n",
    "testData = testData.sort_index(ascending=False)\n",
    "y_test = testData.iloc[30:,0:].values \n",
    "#input array for the model\n",
    "inputClosing = testData.iloc[:,0:].values \n",
    "inputClosing_scaled = scaler.transform(inputClosing)\n",
    "inputClosing_scaled.shape\n",
    "X_test = []\n",
    "length = len(testData)\n",
    "timestep = 30\n",
    "for i in range(timestep,length):  \n",
    "    X_test.append(inputClosing_scaled[i-timestep:i,0])\n",
    "   # print(X_test)\n",
    "X_test = np.array(X_test)\n",
    "X_test = np.reshape(X_test,(X_test.shape[0],X_test.shape[1],1))\n",
    "X_test.shape\n",
    "#print(X_test)"
   ]
  },
  {
   "cell_type": "code",
   "execution_count": 85,
   "id": "7efcd71c",
   "metadata": {},
   "outputs": [],
   "source": [
    "y_pred = regressor.predict(X_test)\n"
   ]
  },
  {
   "cell_type": "code",
   "execution_count": 86,
   "id": "18c0c24c",
   "metadata": {},
   "outputs": [
    {
     "name": "stdout",
     "output_type": "stream",
     "text": [
      "(5569, 30, 1)\n",
      "[[1387.8099]\n",
      " [1386.5647]\n",
      " [1385.826 ]\n",
      " ...\n",
      " [4242.106 ]\n",
      " [4250.281 ]\n",
      " [4260.246 ]]\n"
     ]
    }
   ],
   "source": [
    "y_pred = np.reshape(y_pred,(y_pred.shape[0],y_pred.shape[1]))\n",
    "print(X_train.shape)\n",
    "predicted_price = scaler.inverse_transform(y_pred)\n",
    "print((predicted_price))\n"
   ]
  },
  {
   "cell_type": "code",
   "execution_count": 87,
   "id": "5e1ab8ca",
   "metadata": {},
   "outputs": [
    {
     "data": {
      "image/png": "[encoded data removed]",
      "text/plain": [
       "<Figure size 432x288 with 1 Axes>"
      ]
     },
     "metadata": {
      "needs_background": "light"
     },
     "output_type": "display_data"
    }
   ],
   "source": [
    "\n",
    "#Graph the predicted price vs actual price\n",
    "#Graph starts on 1/3/2000 (earliest date market watch had in a csv and ends on april 1/1/2022\n",
    "plt.plot(y_test, color = 'red', label = 'Actual Stock Price')\n",
    "plt.plot(predicted_price, color = 'green', label = 'Predicted Stock Price')\n",
    "plt.title('S&P500 stock price prediction')\n",
    "plt.xlabel('Time (Days)')\n",
    "plt.ylabel('Stock Price ($)')\n",
    "plt.legend()\n",
    "plt.show()\n",
    "\n"
   ]
  },
  {
   "cell_type": "code",
   "execution_count": null,
   "id": "1c8c0b1a",
   "metadata": {},
   "outputs": [],
   "source": [
    "#Todo \n",
    "#Add model saving/loading < Somewhat working\n",
    "\n",
    "\n",
    "#Add method to predict abitrary date < Need to learn how it works\n",
    "#Add method to convert x time on graph to date or fetch date from row\n",
    "#Code Clean up\n",
    "#Long Training session for most accurate model\n",
    "\n",
    "\n",
    "#Once Everything else is done Todo\n",
    "#numba jit acceleration\n",
    "#Test in real world\n",
    "#Enhance model with more layers or increased density\n",
    "#Test Again\n",
    "#real time data streaming via yahoo finance python module or similar\n",
    "\n",
    "#Distant Future\n",
    "#Try using it for trading?\n",
    "#Build high speed trading server out of computer hardware?"
   ]
  }
 ],
 "metadata": {
  "kernelspec": {
   "display_name": "tf-gpu",
   "language": "python",
   "name": "tf-gpu"
  },
  "language_info": {
   "codemirror_mode": {
    "name": "ipython",
    "version": 3
   },
   "file_extension": ".py",
   "mimetype": "text/x-python",
   "name": "python",
   "nbconvert_exporter": "python",
   "pygments_lexer": "ipython3",
   "version": "3.9.7"
  }
 },
 "nbformat": 4,
 "nbformat_minor": 5
}
